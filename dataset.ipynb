{
 "cells": [
  {
   "cell_type": "code",
   "execution_count": 2,
   "id": "6ab67360-79ef-4f45-bf1a-e8f42fe4767e",
   "metadata": {},
   "outputs": [
    {
     "name": "stderr",
     "output_type": "stream",
     "text": [
      "Neither CUDA nor MPS are available - defaulting to CPU. Note: This module is much faster with a GPU.\n"
     ]
    },
    {
     "name": "stdout",
     "output_type": "stream",
     "text": [
      "2 eisha Patrikar nio final.pdf\n",
      "Aakriti Tank Resume (2).pdf\n",
      "Application for Dissertation at NIO Visakhapatnam_Molugu Harini.pdf\n",
      "Application Form for Internship.pdf\n",
      "CSIR-NIO .pdf\n",
      "CV RESUME.pdf\n",
      "Md Jeeshan Form NIO.pdf\n",
      "meghana_nio.pdf\n",
      "Merged NIO-merged-Compressed.pdf\n",
      "NIO Dissertation.pdf\n",
      "NIO_Application_BharathPrasanth.pdf\n",
      "PDF.pdf\n",
      "Silpa_NIO_appln.pdf\n",
      "✅ Labeled dataset saved to 'labeled_dataset_test2.csv' (86 entries)\n"
     ]
    }
   ],
   "source": [
    "import os\n",
    "from pdf2image import convert_from_path\n",
    "import easyocr\n",
    "from PIL import Image\n",
    "import numpy as np\n",
    "import pandas as pd\n",
    "\n",
    "# Initialize EasyOCR\n",
    "reader = easyocr.Reader(['en'])\n",
    "\n",
    "# Section keywords\n",
    "sections = {\n",
    "    \"Application Form\": [\"processing\", \"application form for internship\"],\n",
    "    \"Request Letter\": [\"director\", \"the hrm\", \"request letter\", \"guide recommendation\"],\n",
    "    \"Consent Email\": [\"regards\", \"approval email\"],\n",
    "    \"Resume\": [\"languages\", \"curriculum vitae\", \"resume\", \"skills\", \"certifications\", \"activities\", \"hobbies\"],\n",
    "    \"ID Card\": [\"valid upto\", \"hosteller\", \"blood\", \"roll\", \"identity card\", \"student id\", \"id number\", \"address\"]\n",
    "}\n",
    "\n",
    "def perform_ocr(image):\n",
    "    img_np = np.array(image)\n",
    "    results = reader.readtext(img_np)\n",
    "    return \"\\n\".join([text for _, text, _ in results]).lower()\n",
    "\n",
    "def process_pdf_for_dataset(pdf_path, dataset_rows):\n",
    "    pdf_name = os.path.basename(pdf_path)\n",
    "\n",
    "    # Add a header row for the PDF file\n",
    "    dataset_rows.append({\"data\": f\"=== Start of {pdf_name} ===\", \"label\": \"FileHeader\"})\n",
    "\n",
    "    images = convert_from_path(pdf_path)\n",
    "    for image in images:\n",
    "        text = perform_ocr(image)\n",
    "        label = \"Unknown\"\n",
    "\n",
    "        for section, keywords in sections.items():\n",
    "            if any(kw in text for kw in keywords):\n",
    "                label = section\n",
    "                break\n",
    "\n",
    "        dataset_rows.append({\"data\": text, \"label\": label})\n",
    "\n",
    "def build_labeled_dataset(folder_path, output_csv=\"labeled_dataset_test2.csv\"):\n",
    "    dataset_rows = []\n",
    "\n",
    "    for filename in os.listdir(folder_path):\n",
    "        if filename.lower().endswith(\".pdf\"):\n",
    "            print(f'{filename}')\n",
    "            pdf_path = os.path.join(folder_path, filename)\n",
    "            process_pdf_for_dataset(pdf_path, dataset_rows)\n",
    "\n",
    "    df = pd.DataFrame(dataset_rows)\n",
    "    df.to_csv(output_csv, index=False)\n",
    "    print(f\"✅ Labeled dataset saved to '{output_csv}' ({len(df)} entries)\")\n",
    "    return df\n",
    "\n",
    "# --- Run ---\n",
    "folder_path = \"input\"  # Replace with your actual folder path\n",
    "df_labeled = build_labeled_dataset(folder_path)\n"
   ]
  },
  {
   "cell_type": "markdown",
   "id": "a73636dd-1e70-4cf2-9a13-36c0b3f21dca",
   "metadata": {},
   "source": []
  }
 ],
 "metadata": {
  "kernelspec": {
   "display_name": "Python 3 (ipykernel)",
   "language": "python",
   "name": "python3"
  },
  "language_info": {
   "codemirror_mode": {
    "name": "ipython",
    "version": 3
   },
   "file_extension": ".py",
   "mimetype": "text/x-python",
   "name": "python",
   "nbconvert_exporter": "python",
   "pygments_lexer": "ipython3",
   "version": "3.11.4"
  }
 },
 "nbformat": 4,
 "nbformat_minor": 5
}
